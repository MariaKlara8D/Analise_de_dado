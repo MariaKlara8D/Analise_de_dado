{
  "nbformat": 4,
  "nbformat_minor": 0,
  "metadata": {
    "colab": {
      "provenance": [],
      "authorship_tag": "ABX9TyN8edd/P8WkCrCHT1INc90e",
      "include_colab_link": true
    },
    "kernelspec": {
      "name": "python3",
      "display_name": "Python 3"
    },
    "language_info": {
      "name": "python"
    }
  },
  "cells": [
    {
      "cell_type": "markdown",
      "metadata": {
        "id": "view-in-github",
        "colab_type": "text"
      },
      "source": [
        "<a href=\"https://colab.research.google.com/github/MariaKlara8D/Analise_de_dado/blob/main/Analise_de_Dados_online01_21_02_2024.ipynb\" target=\"_parent\"><img src=\"https://colab.research.google.com/assets/colab-badge.svg\" alt=\"Open In Colab\"/></a>"
      ]
    },
    {
      "cell_type": "code",
      "execution_count": null,
      "metadata": {
        "id": "Wr3aFMIjBZ_p"
      },
      "outputs": [],
      "source": [
        "var1 = int(input(\"Digite um inteiro: \"))\n",
        "var2 = int( input(\"Digite outro inteiro: \"))\n",
        "exp = var1**var2\n",
        "print(exp"
      ]
    },
    {
      "cell_type": "code",
      "source": [
        "var1 = int(input(\"Digite um inteiro: \"))\n",
        "var2 = int( input(\"Digite outro inteiro: \"))\n",
        "resto = var1%var2\n",
        "print(resto)"
      ],
      "metadata": {
        "id": "fXoEGQPBBqUc"
      },
      "execution_count": null,
      "outputs": []
    },
    {
      "cell_type": "markdown",
      "source": [
        "VALORES BOOLEANOS- True( verdadeiro ) ou False( false ) como o \"if\""
      ],
      "metadata": {
        "id": "gJk1KUJWB4UK"
      }
    },
    {
      "cell_type": "code",
      "source": [
        "a = 3 #é como se estivesse nos dando a respostade alternativas verdadeiras e falsas\n",
        "b = 4\n",
        "c = a<b\n",
        "d = a>b\n",
        "e=a==b\n",
        "\n",
        "print(\"Valor de c:\",c)\n",
        "print(\"Valor de d:\",d)\n",
        "print(\"Valor de e:\",e)"
      ],
      "metadata": {
        "id": "5If4WYzKBsdk"
      },
      "execution_count": null,
      "outputs": []
    },
    {
      "cell_type": "markdown",
      "source": [
        "**operadores lógicos**:\n",
        "and = para dar certo se as duas(ou mais variáveis) tem que ser somente VERDADEIROS"
      ],
      "metadata": {
        "id": "WIHk3XAiCNwu"
      }
    },
    {
      "cell_type": "code",
      "source": [
        " A = True\n",
        " B = False\n",
        " print(\"Valor de A and B: \", A and B)"
      ],
      "metadata": {
        "colab": {
          "base_uri": "https://localhost:8080/"
        },
        "id": "T5iQ2BvZCqcm",
        "outputId": "6191a5a2-cc90-4509-bd70-89eb291bf94a"
      },
      "execution_count": null,
      "outputs": [
        {
          "output_type": "stream",
          "name": "stdout",
          "text": [
            "Valor de A and B:  False\n"
          ]
        }
      ]
    },
    {
      "cell_type": "code",
      "source": [
        "idade = int(input(\"Escreva sua idade: \"))\n",
        "permissao=input(\"Você tem permissão : sim/não \")\n",
        "\n",
        "if idade >= 18 and permissao ==\"sim\":\n",
        "  print(True)\n",
        "else:\n",
        "    print(False)"
      ],
      "metadata": {
        "colab": {
          "base_uri": "https://localhost:8080/"
        },
        "id": "Vmup_0x3C4w_",
        "outputId": "6ae1227d-6d3a-46a4-d935-97613e86b2b8"
      },
      "execution_count": null,
      "outputs": [
        {
          "output_type": "stream",
          "name": "stdout",
          "text": [
            "Escreva sua idade: 90\n",
            "Você tem permissão : sim/não sim\n",
            "True\n"
          ]
        }
      ]
    },
    {
      "cell_type": "markdown",
      "source": [
        "or : precisa somente de UM valor verdadeiro para retomar VERDADEIRO"
      ],
      "metadata": {
        "id": "IFBaPB30DrvE"
      }
    },
    {
      "cell_type": "code",
      "source": [
        "A = True\n",
        "B = False\n",
        "print(\"Valor de A or B: \", A or B)"
      ],
      "metadata": {
        "id": "Hn0uixvRD6UT"
      },
      "execution_count": null,
      "outputs": []
    },
    {
      "cell_type": "code",
      "source": [
        "a = 5\n",
        "b = 6\n",
        "\n",
        "if a ==5 or b == 9 :\n",
        "  print (True)\n",
        "else:\n",
        "    print(False)"
      ],
      "metadata": {
        "colab": {
          "base_uri": "https://localhost:8080/"
        },
        "id": "e1Hh9p8AEPAS",
        "outputId": "5718a6a6-d7cd-42a8-a884-0cce2776738d"
      },
      "execution_count": null,
      "outputs": [
        {
          "output_type": "stream",
          "name": "stdout",
          "text": [
            "True\n"
          ]
        }
      ]
    },
    {
      "cell_type": "markdown",
      "source": [
        "not: muda valor de true para falso e vice e versa"
      ],
      "metadata": {
        "id": "7QI4ntXuFftU"
      }
    },
    {
      "cell_type": "code",
      "source": [
        "condicao = True\n",
        "if not condicao:\n",
        "  print(\"A codição é falsa.\")\n"
      ],
      "metadata": {
        "id": "xMrkEYb0Fdi_"
      },
      "execution_count": null,
      "outputs": []
    },
    {
      "cell_type": "code",
      "source": [],
      "metadata": {
        "id": "TgsPQDKbF5bc"
      },
      "execution_count": null,
      "outputs": []
    }
  ]
}