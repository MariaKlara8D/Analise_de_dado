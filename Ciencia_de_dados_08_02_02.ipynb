{
  "cells": [
    {
      "cell_type": "markdown",
      "metadata": {
        "id": "view-in-github",
        "colab_type": "text"
      },
      "source": [
        "<a href=\"https://colab.research.google.com/github/MariaKlara8D/Analise_de_dado/blob/main/Ciencia_de_dados_08_02_02.ipynb\" target=\"_parent\"><img src=\"https://colab.research.google.com/assets/colab-badge.svg\" alt=\"Open In Colab\"/></a>"
      ]
    },
    {
      "cell_type": "markdown",
      "metadata": {
        "id": "gtySvq-7Y-Up"
      },
      "source": [
        "**Print** = é uma fução utilizada para o prgama exibir mensagens."
      ]
    },
    {
      "cell_type": "code",
      "execution_count": null,
      "metadata": {
        "colab": {
          "base_uri": "https://localhost:8080/"
        },
        "id": "dWThcI2wZCHm",
        "outputId": "4e8e917b-2587-4c08-ea64-3dc30fd00125"
      },
      "outputs": [
        {
          "name": "stdout",
          "output_type": "stream",
          "text": [
            "Olá, mundo\n"
          ]
        }
      ],
      "source": [
        "print(\"Olá, mundo\")"
      ]
    },
    {
      "cell_type": "markdown",
      "metadata": {
        "id": "openRQ16Zr9e"
      },
      "source": [
        "**input** = um progama pode utilizar essa função para receber os dados ou valores que um usuário fornece atraés dp teclado"
      ]
    },
    {
      "cell_type": "code",
      "execution_count": null,
      "metadata": {
        "colab": {
          "base_uri": "https://localhost:8080/"
        },
        "id": "q2PyvzYTZIWS",
        "outputId": "daad88a2-106f-42a7-ee11-3d3f99723af5"
      },
      "outputs": [
        {
          "name": "stdout",
          "output_type": "stream",
          "text": [
            "Prompt Dumbt\n"
          ]
        }
      ],
      "source": [
        "variavel = input(\"Prompt\")"
      ]
    },
    {
      "cell_type": "code",
      "execution_count": null,
      "metadata": {
        "colab": {
          "base_uri": "https://localhost:8080/"
        },
        "id": "lyq1lSgxZOyU",
        "outputId": "cc649ca7-61a7-436f-f684-4a4b15edf5ce"
      },
      "outputs": [
        {
          "name": "stdout",
          "output_type": "stream",
          "text": [
            "Qual é o seu nome? Mikey\n",
            " Mikey ,me fale sobre você.\n"
          ]
        }
      ],
      "source": [
        "nome = input(\"Qual é o seu nome?\")\n",
        "print(nome, \",me fale sobre você.\")"
      ]
    },
    {
      "cell_type": "markdown",
      "metadata": {
        "id": "0mRREucfbd2X"
      },
      "source": [
        "**CONDICIONAL IF e ELIF**"
      ]
    },
    {
      "cell_type": "code",
      "execution_count": null,
      "metadata": {
        "colab": {
          "base_uri": "https://localhost:8080/"
        },
        "id": "FE06gaOba2hi",
        "outputId": "73bca40e-8d34-4138-f33f-22dd70b10d08"
      },
      "outputs": [
        {
          "name": "stdout",
          "output_type": "stream",
          "text": [
            "Digite um número: 4\n",
            "4.0 <5\n"
          ]
        }
      ],
      "source": [
        "x = float(input(\"Digite um número: \"))\n",
        "if x <5:\n",
        "  print(x, \"<5\")"
      ]
    },
    {
      "cell_type": "code",
      "execution_count": null,
      "metadata": {
        "colab": {
          "base_uri": "https://localhost:8080/"
        },
        "id": "2zNHWvM4bn8v",
        "outputId": "062be6f6-876c-4a2c-beec-85c1d4dfdf03"
      },
      "outputs": [
        {
          "name": "stdout",
          "output_type": "stream",
          "text": [
            "Digite um número : -9\n",
            "-9.0 < 5\n"
          ]
        }
      ],
      "source": [
        "x = float(input(\"Digite um número : \"))\n",
        "if x < 5:\n",
        "  print(x, \"< 5\")\n",
        "elif x == 5:\n",
        "  print(x, \" = 5\")\n",
        "elif x > 5:\n",
        " print(x, \">5\")"
      ]
    },
    {
      "cell_type": "code",
      "execution_count": null,
      "metadata": {
        "colab": {
          "base_uri": "https://localhost:8080/"
        },
        "id": "EEADXAhucCaQ",
        "outputId": "5bc41431-4a56-478b-8713-0ae3cafd8386"
      },
      "outputs": [
        {
          "name": "stdout",
          "output_type": "stream",
          "text": [
            "Digite um número: 425\n",
            "5<= 425.0\n"
          ]
        }
      ],
      "source": [
        "x = float(input(\"Digite um número: \"))\n",
        "if x <5:\n",
        "  print(x, \"<5\")\n",
        "else:\n",
        "  print(\"5<=\", x)"
      ]
    },
    {
      "cell_type": "code",
      "execution_count": null,
      "metadata": {
        "id": "eIa81WKRch4L"
      },
      "outputs": [],
      "source": [
        "x = int(input(\"Digite um número: \"))\n",
        "if x == 0:\n",
        "  print(\"0= \",x,\" <1\")\n",
        "elif x < 2:\n",
        "  print(\"1= \",x,\" <2\")\n",
        "elif x < 3:\n",
        "  print(\"2= \",x,\" <3\")\n",
        "else:\n",
        "  print(\"3<= \",x)"
      ]
    },
    {
      "cell_type": "code",
      "execution_count": null,
      "metadata": {
        "colab": {
          "background_save": true
        },
        "id": "P0S2En0ZeLTC",
        "outputId": "610b090c-495c-4e78-b7fd-3667bcc22cd1"
      },
      "outputs": [
        {
          "name": "stdout",
          "output_type": "stream",
          "text": [
            "cauculadora básica =D\n"
          ]
        }
      ],
      "source": [
        "print(\"cauculadora básica =D\")\n",
        "x = float(input(\"Digite um número : \")) #pode usar o ''case'' em vez do if\n",
        "y = float(input(\"Digite outro número : \"))\n",
        "g = float(input(\"Digite 1 = soma, 2 = subtração, 3 = multiplicação, 4 = divisão, 5 = potencia :\"))\n",
        "if g == 1:\n",
        "  print( x + y)\n",
        "elif g == 2:\n",
        "  print( x - y)\n",
        "elif g == 3:\n",
        "  print( x * y)\n",
        "elif g == 4 and y == 0:\n",
        "  print(\"Esse número não existe\")\n",
        "elif g == 4 :\n",
        "  print( x / y)\n",
        "elif g == 5 :\n",
        "  print( x** y)\n"
      ]
    }
  ],
  "metadata": {
    "colab": {
      "provenance": [],
      "authorship_tag": "ABX9TyOsX35HNIDlqyR+Yx1iT1LA",
      "include_colab_link": true
    },
    "kernelspec": {
      "display_name": "Python 3",
      "name": "python3"
    },
    "language_info": {
      "name": "python"
    }
  },
  "nbformat": 4,
  "nbformat_minor": 0
}