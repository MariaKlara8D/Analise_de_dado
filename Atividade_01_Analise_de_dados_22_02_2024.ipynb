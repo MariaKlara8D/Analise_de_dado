{
  "nbformat": 4,
  "nbformat_minor": 0,
  "metadata": {
    "colab": {
      "provenance": [],
      "authorship_tag": "ABX9TyOwCJFxGOiepXWLyTczlQeE",
      "include_colab_link": true
    },
    "kernelspec": {
      "name": "python3",
      "display_name": "Python 3"
    },
    "language_info": {
      "name": "python"
    }
  },
  "cells": [
    {
      "cell_type": "markdown",
      "metadata": {
        "id": "view-in-github",
        "colab_type": "text"
      },
      "source": [
        "<a href=\"https://colab.research.google.com/github/MariaKlara8D/Analise_de_dado/blob/main/Atividade_01_Analise_de_dados_22_02_2024.ipynb\" target=\"_parent\"><img src=\"https://colab.research.google.com/assets/colab-badge.svg\" alt=\"Open In Colab\"/></a>"
      ]
    },
    {
      "cell_type": "code",
      "execution_count": 2,
      "metadata": {
        "colab": {
          "base_uri": "https://localhost:8080/"
        },
        "id": "2Vxx6wxWezyv",
        "outputId": "c2f53e1d-d5f8-4f0b-d1e6-03e509f05511"
      },
      "outputs": [
        {
          "output_type": "stream",
          "name": "stdout",
          "text": [
            "Digete um número ao lado: 10\n",
            "Este número está entre 10 e 20\n"
          ]
        }
      ],
      "source": [
        "#1\n",
        "usuario = int(input(\"Digete um número ao lado: \"))\n",
        "if  10 <= usuario <= 20:\n",
        "  print(\"Este número está entre 10 e 20\")\n",
        "else:\n",
        "  print(\"Este número não esta entre 10 e 20\")"
      ]
    },
    {
      "cell_type": "code",
      "source": [
        "#2\n",
        "cliente = int(input(\"Qual sua idade? \"))\n",
        "if cliente < 18:\n",
        "  print(\"Você não pode assitir a esse filme\")\n",
        "elif cliente >= 18:\n",
        "  print(\"Você pode assitir a esse filme.\")"
      ],
      "metadata": {
        "colab": {
          "base_uri": "https://localhost:8080/"
        },
        "id": "eLlEUNzXf-n9",
        "outputId": "4964bfdb-e92e-456a-a99f-c19f04d88df6"
      },
      "execution_count": 8,
      "outputs": [
        {
          "output_type": "stream",
          "name": "stdout",
          "text": [
            "Qual sua idade? 18\n",
            "Você pode assitir a esse filme.\n"
          ]
        }
      ]
    },
    {
      "cell_type": "code",
      "source": [
        "#3"
      ],
      "metadata": {
        "id": "ZF6pq2fygwS0"
      },
      "execution_count": null,
      "outputs": []
    },
    {
      "cell_type": "code",
      "source": [
        "#4\n",
        "descrição = int(input(\"Seu triângulo tem quantos ângulos iguais ? \"))\n",
        "if descrição == 0:\n",
        "  print(\"\\033[4;36;47mSeu triângulo é ESCALENO e por não ter nenhum angulo igual, todos os seu lados são diferente também =D!\\033[\")\n",
        "elif descrição == 2:\n",
        "  print(\"\\033[4;32;43mSeu triângulo é ISÓCELES, e por não ter nenhum angulo igual, ele tem dois lados iguais também =D!\")\n",
        "elif descrição == 3:\n",
        "  print(\"\\033[4;33;41mSeu triângulo é EQUILÁTERO, e por não ter nenhum angulo igual, todos os seu lados são iguais também =D!\")"
      ],
      "metadata": {
        "id": "2KPtsvYMgyIm"
      },
      "execution_count": null,
      "outputs": []
    },
    {
      "cell_type": "code",
      "source": [
        "#5\n",
        "carro = int(input(\"Digete aqui o ultimo número do seu carro : \"))\n",
        "if carro == 1 or 2:\n",
        "  print(\"Você pode dirigir somente nas segundas-feiras!\")\n",
        "elif carro == 3 or 4:\n",
        " print(\"Você pode dirigir somente nas terças-feiras!\")\n",
        "elif carro == 5 or 6:\n",
        " print(\"Você pode dirigir somente nas quartas-feiras!\")\n",
        "elif carro == 7 or 8:\n",
        " print(\"Você pode dirigir somente nas quintas-feiras!\")\n",
        "elif carro == 9 or 0:\n",
        "  print(\"Você pode dirigir somente nas ssextas-feiras!\")"
      ],
      "metadata": {
        "colab": {
          "base_uri": "https://localhost:8080/"
        },
        "id": "ukWfFJvmg16d",
        "outputId": "e8e2edb4-b687-45db-853a-aed88ad5d850"
      },
      "execution_count": 11,
      "outputs": [
        {
          "output_type": "stream",
          "name": "stdout",
          "text": [
            "Digete aqui o ultimo número do seu carro : 9\n",
            "Você pode dirigir somente nas segundas-feiras!\n"
          ]
        }
      ]
    }
  ]
}